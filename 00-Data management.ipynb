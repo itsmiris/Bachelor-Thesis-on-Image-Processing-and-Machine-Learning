{
 "cells": [
  {
   "cell_type": "code",
   "execution_count": null,
   "metadata": {},
   "outputs": [],
   "source": [
    "from datasets import datasets\n",
    "from config import config"
   ]
  },
  {
   "cell_type": "code",
   "execution_count": 1,
   "metadata": {},
   "outputs": [
    {
     "name": "stdout",
     "output_type": "stream",
     "text": [
      "Loading training set and val set\n",
      "Train set size :  (14800,)\n",
      "Val set size :  (200,)\n",
      "Train and validation datasets ready !\n"
     ]
    }
   ],
   "source": [
    "train_image_paths, val_image_paths = datasets.get_train_and_val_image_paths_and_write_scores()"
   ]
  },
  {
   "cell_type": "code",
   "execution_count": 2,
   "metadata": {},
   "outputs": [
    {
     "name": "stdout",
     "output_type": "stream",
     "text": [
      "Train set size :  (14800,) (14800,)\n",
      "Val set size :  (200,) (200,)\n",
      "Train and validation datasets ready !\n"
     ]
    }
   ],
   "source": [
    "#obtinerea etichetelor pozelor folosite, din toate calculate\n",
    "train_scores = []\n",
    "with open(config[\"misc\"][\"scores_filepath\"], mode='r') as l:\n",
    "    liness = l.readlines()\n",
    "    for i, line in enumerate(liness):\n",
    "        for j in range(0, config[\"datasets\"][\"size\"]):\n",
    "            if(s[j]==i):\n",
    "                k = open(config[\"misc\"][\"scores_final_filepath\"], \"a\")\n",
    "                k.write(str(liness[i-1]))\n",
    "                k.close()\n",
    "                train_scores.append(liness[i-1])\n",
    "                \n",
    "    k = open(config[\"misc\"][\"scores_final_filepath\"], \"a\")\n",
    "    k.write(str(liness[-1]))\n",
    "    k.close()\n",
    "    train_scores.append(liness[-1])\n",
    "    \n",
    "train_scores = np.array(train_scores, dtype='float32')\n",
    "val_scores = train_scores[-config[\"datasets\"][\"train_val_split_size\"]:]\n",
    "train_scores = train_scores[:-config[\"datasets\"][\"train_val_split_size\"]]\n",
    "\n",
    "print('Train set size : ', train_image_paths.shape, train_scores.shape)\n",
    "print('Val set size : ', val_image_paths.shape, val_scores.shape)\n",
    "print('Train and validation datasets ready !')"
   ]
  }
 ],
 "metadata": {
  "kernelspec": {
   "display_name": "task2",
   "language": "python",
   "name": "task2"
  },
  "language_info": {
   "codemirror_mode": {
    "name": "ipython",
    "version": 3
   },
   "file_extension": ".py",
   "mimetype": "text/x-python",
   "name": "python",
   "nbconvert_exporter": "python",
   "pygments_lexer": "ipython3",
   "version": "3.9.7"
  }
 },
 "nbformat": 4,
 "nbformat_minor": 4
}
