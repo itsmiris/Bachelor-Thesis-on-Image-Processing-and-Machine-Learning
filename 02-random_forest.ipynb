{
 "cells": [
  {
   "cell_type": "code",
   "execution_count": 1,
   "metadata": {},
   "outputs": [],
   "source": [
    "from sklearn import datasets, tree, ensemble,metrics\n",
    "import numpy as np\n",
    "import seaborn as sns\n",
    "import matplotlib.pyplot as plt\n",
    "import pandas as pd\n",
    "from sklearn.metrics import mean_squared_error\n",
    "\n",
    "from config import config"
   ]
  },
  {
   "cell_type": "code",
   "execution_count": 2,
   "metadata": {},
   "outputs": [],
   "source": [
    "dataset_train = pd.read_csv(config[\"random_forest\"][\"descriptor_filepath\"],header = None, delimiter = ' ')\n",
    "dataset_train = dataset_train.drop(columns = 25)\n",
    "dataset_labels = pd.read_csv(config[\"random_forest\"][\"1000_scores.txt\"], header = None)"
   ]
  },
  {
   "cell_type": "code",
   "execution_count": 3,
   "metadata": {},
   "outputs": [],
   "source": [
    "from sklearn.model_selection import train_test_split\n",
    "from random import randrange\n",
    "\n",
    "train, test, train_labels, test_labels = train_test_split(dataset_train, dataset_labels, test_size = config[\"random_forest\"][\"test_size\"])"
   ]
  },
  {
   "cell_type": "code",
   "execution_count": 4,
   "metadata": {},
   "outputs": [
    {
     "name": "stdout",
     "output_type": "stream",
     "text": [
      "[[1.05546638 1.05839645 1.07396595 0.98824329 1.04526403]\n",
      " [0.85413811 0.85078266 0.82673864 0.80585235 0.82818163]\n",
      " [0.70359762 0.6749916  0.67697098 0.65590054 0.67632679]\n",
      " [0.59752141 0.55627903 0.53928538 0.54383881 0.52958517]\n",
      " [0.50409831 0.47281156 0.44025646 0.42831947 0.43841791]\n",
      " [0.38513518 0.38045351 0.3440475  0.34430267 0.37378333]\n",
      " [0.3189743  0.29275524 0.3014866  0.29014966 0.2927303 ]\n",
      " [0.29161657 0.25342784 0.23013162 0.22489654 0.23647339]\n",
      " [0.2188574  0.21419208 0.197649   0.19708574 0.19855651]\n",
      " [0.1679038  0.17890004 0.1649405  0.17637765 0.15222586]]\n",
      "cea mai mica eroare s-a obtinut pentru procentul de bagging: \n",
      "100\n",
      "si pentru un numar de dimensiuni din max 25 ales: \n",
      "25\n"
     ]
    }
   ],
   "source": [
    "y = test_labels\n",
    "\n",
    "error = np.zeros((10, 5))\n",
    "for i in range(10, 101, 10):\n",
    "    for j in range(5, 26, 5):\n",
    "        regr = ensemble.BaggingRegressor(n_estimators = config[\"random_forest\"][\"regressor\"][\"n_estimators\"], max_samples = i/100 ,max_features = j)\n",
    "        regr.fit(train, train_labels.values.ravel())\n",
    "\n",
    "        predictii = regr.predict(test)\n",
    "        error[int(i / 10) - 1][int(j / 5) - 1] = mean_squared_error(y, predictii)\n",
    "k=int((np.argmin(error)) / 5)\n",
    "l=int((np.argmin(error)) % 5)\n",
    "\n",
    "\n",
    "print(error)\n",
    "print(\"cea mai mica eroare s-a obtinut pentru procentul de bagging: \")\n",
    "print((k+1)*10)\n",
    "print(\"si pentru un numar de dimensiuni din max 25 ales: \" )\n",
    "print((l+1)*5)"
   ]
  },
  {
   "cell_type": "code",
   "execution_count": 1,
   "metadata": {},
   "outputs": [],
   "source": [
    "from sklearn.model_selection import cross_val_predict\n",
    "from sklearn import linear_model\n",
    "import matplotlib.pyplot as plt\n",
    "\n",
    "fig, ax = plt.subplots()\n",
    "ax.scatter(y, predictii)\n",
    "ax.plot([y.min(), y.max()], [y.min(), y.max()], 'k--', lw=4)\n",
    "ax.set_xlabel('Measured')\n",
    "ax.set_ylabel('Predicted')\n",
    "plt.show()\n"
   ]
  },
  {
   "cell_type": "code",
   "execution_count": 7,
   "metadata": {},
   "outputs": [
    {
     "name": "stdout",
     "output_type": "stream",
     "text": [
      "0.15291230540000084\n"
     ]
    },
    {
     "data": {
      "image/png": "[encoded data removed]",
      "text/plain": [
       "<Figure size 432x288 with 1 Axes>"
      ]
     },
     "metadata": {
      "needs_background": "light"
     },
     "output_type": "display_data"
    }
   ],
   "source": [
    "y = test_labels\n",
    "regr = ensemble.BaggingRegressor(n_estimators = config[\"random_forest\"][\"regressor\"][\"n_estimators\"],\n",
    "                                 max_samples = config[\"random_forest\"][\"regressor\"][\"max_samples\"],\n",
    "                                 max_features = config[\"random_forest\"][\"regressor\"][\"max_features\"])\n",
    "regr.fit(train, train_labels.values.ravel())\n",
    "predictii = regr.predict(test)\n",
    "print( mean_squared_error(y, predictii))\n",
    "fig, ax = plt.subplots()\n",
    "ax.scatter(y, predictii)\n",
    "ax.plot([y.min(), y.max()], [y.min(), y.max()], 'k--', lw=4)\n",
    "ax.set_xlabel('Measured')\n",
    "ax.set_ylabel('Predicted')\n",
    "plt.show()\n"
   ]
  }
 ],
 "metadata": {
  "kernelspec": {
   "display_name": "task2",
   "language": "python",
   "name": "task2"
  },
  "language_info": {
   "codemirror_mode": {
    "name": "ipython",
    "version": 3
   },
   "file_extension": ".py",
   "mimetype": "text/x-python",
   "name": "python",
   "nbconvert_exporter": "python",
   "pygments_lexer": "ipython3",
   "version": "3.9.7"
  }
 },
 "nbformat": 4,
 "nbformat_minor": 4
}
